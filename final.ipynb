{
 "cells": [
  {
   "cell_type": "code",
   "execution_count": 5,
   "id": "6885bd35",
   "metadata": {},
   "outputs": [],
   "source": [
    "import numpy as np\n",
    "from astropy.io import fits\n",
    "from astropy.table import Table\n",
    "from matplotlib.colors import LogNorm"
   ]
  },
  {
   "cell_type": "code",
   "execution_count": 7,
   "id": "a6f90d65",
   "metadata": {},
   "outputs": [
    {
     "name": "stdout",
     "output_type": "stream",
     "text": [
      "Filename: J_AJ_146_46_table3.dat.fits\n",
      "No.    Name      Ver    Type      Cards   Dimensions   Format\n",
      "  0  PRIMARY       1 PrimaryHDU      78   ()      \n",
      "  1  table3.dat    1 TableHDU       154   802R x 22C   [A18, I2, I2, F4.1, A1, I2, I2, I2, I2, F6.2, A1, F5.2, A1, F5.2, A1, F5.2, A1, F5.2, A1, F5.2, A1, F5.2]   \n"
     ]
    }
   ],
   "source": [
    "df = fits.open(\"J_AJ_146_46_table3.dat.fits\", memmap=True)\n",
    "df.info()\n",
    "data = Table(df[1].data)"
   ]
  },
  {
   "cell_type": "code",
   "execution_count": 8,
   "id": "f5f45994",
   "metadata": {},
   "outputs": [
    {
     "data": {
      "text/html": [
       "<div><i>Table length=802</i>\n",
       "<table id=\"table4431502928\" class=\"table-striped table-bordered table-condensed\">\n",
       "<thead><tr><th>Name</th><th>RAh</th><th>RAm</th><th>RAs</th><th>DE-</th><th>DEd</th><th>DEm</th><th>DEs</th><th>TT</th><th>BMag</th><th>l_SFRa</th><th>SFRa</th><th>l_Pa</th><th>Pa</th><th>l_Fa</th><th>Fa</th><th>l_SFRu</th><th>SFRu</th><th>l_Pu</th><th>Pu</th><th>l_Fu</th><th>Fu</th></tr></thead>\n",
       "<thead><tr><th>str18</th><th>int16</th><th>int16</th><th>float64</th><th>str1</th><th>int16</th><th>int16</th><th>int16</th><th>int16</th><th>float64</th><th>str1</th><th>float64</th><th>str1</th><th>float64</th><th>str1</th><th>float64</th><th>str1</th><th>float64</th><th>str1</th><th>float64</th><th>str1</th><th>float64</th></tr></thead>\n",
       "<tr><td>UGC12894</td><td>0</td><td>0</td><td>22.5</td><td>+</td><td>39</td><td>29</td><td>44</td><td>10</td><td>-13.31</td><td></td><td>-2.48</td><td></td><td>0.08</td><td></td><td>0.53</td><td></td><td>-2.03</td><td></td><td>0.53</td><td></td><td>0.08</td></tr>\n",
       "<tr><td>WLM</td><td>0</td><td>1</td><td>58.1</td><td>-</td><td>15</td><td>27</td><td>40</td><td>9</td><td>-14.06</td><td></td><td>-2.69</td><td></td><td>-0.24</td><td></td><td>0.65</td><td></td><td>-2.24</td><td></td><td>0.21</td><td></td><td>0.2</td></tr>\n",
       "<tr><td>And XVIII</td><td>0</td><td>2</td><td>14.5</td><td>+</td><td>45</td><td>5</td><td>20</td><td>-3</td><td>-9.11</td><td></td><td>0.0</td><td></td><td>0.0</td><td></td><td>0.0</td><td>&lt;</td><td>-5.81</td><td>&lt;</td><td>-2.27</td><td></td><td>0.0</td></tr>\n",
       "<tr><td>ESO409-015</td><td>0</td><td>5</td><td>31.8</td><td>-</td><td>28</td><td>5</td><td>53</td><td>9</td><td>-14.35</td><td></td><td>-1.57</td><td></td><td>0.57</td><td></td><td>-0.31</td><td></td><td>-1.82</td><td></td><td>0.32</td><td></td><td>-0.06</td></tr>\n",
       "<tr><td>AGC748778</td><td>0</td><td>6</td><td>34.4</td><td>+</td><td>15</td><td>30</td><td>39</td><td>10</td><td>-10.04</td><td></td><td>0.0</td><td></td><td>0.0</td><td></td><td>0.0</td><td></td><td>-3.65</td><td></td><td>0.22</td><td></td><td>0.29</td></tr>\n",
       "<tr><td>And XX</td><td>0</td><td>7</td><td>30.7</td><td>+</td><td>35</td><td>7</td><td>56</td><td>-3</td><td>-5.77</td><td></td><td>0.0</td><td></td><td>0.0</td><td></td><td>0.0</td><td></td><td>-5.96</td><td></td><td>-1.08</td><td></td><td>0.0</td></tr>\n",
       "<tr><td>UGC00064</td><td>0</td><td>7</td><td>44.0</td><td>+</td><td>40</td><td>52</td><td>32</td><td>10</td><td>-14.75</td><td></td><td>0.0</td><td></td><td>0.0</td><td></td><td>0.0</td><td></td><td>-1.63</td><td></td><td>0.35</td><td></td><td>0.34</td></tr>\n",
       "<tr><td>ESO349-031</td><td>0</td><td>8</td><td>13.3</td><td>-</td><td>34</td><td>34</td><td>42</td><td>10</td><td>-11.87</td><td></td><td>-4.03</td><td></td><td>-1.01</td><td></td><td>1.29</td><td></td><td>-3.02</td><td></td><td>0.0</td><td></td><td>0.28</td></tr>\n",
       "<tr><td>NGC0024</td><td>0</td><td>9</td><td>56.4</td><td>-</td><td>24</td><td>57</td><td>48</td><td>5</td><td>-18.32</td><td></td><td>-0.74</td><td></td><td>-0.35</td><td></td><td>-0.22</td><td></td><td>-0.34</td><td></td><td>0.05</td><td></td><td>-0.62</td></tr>\n",
       "<tr><td>...</td><td>...</td><td>...</td><td>...</td><td>...</td><td>...</td><td>...</td><td>...</td><td>...</td><td>...</td><td>...</td><td>...</td><td>...</td><td>...</td><td>...</td><td>...</td><td>...</td><td>...</td><td>...</td><td>...</td><td>...</td><td>...</td></tr>\n",
       "<tr><td>NGC7713</td><td>23</td><td>36</td><td>15.0</td><td>-</td><td>37</td><td>56</td><td>20</td><td>6</td><td>-18.38</td><td></td><td>-0.64</td><td></td><td>0.06</td><td></td><td>-0.49</td><td></td><td>0.0</td><td></td><td>0.0</td><td></td><td>0.0</td></tr>\n",
       "<tr><td>UGC12713</td><td>23</td><td>38</td><td>14.5</td><td>+</td><td>30</td><td>42</td><td>33</td><td>7</td><td>-15.95</td><td></td><td>-1.61</td><td></td><td>-0.37</td><td></td><td>0.16</td><td></td><td>-1.57</td><td></td><td>-0.33</td><td></td><td>0.12</td></tr>\n",
       "<tr><td>UGCA442</td><td>23</td><td>43</td><td>46.0</td><td>-</td><td>31</td><td>57</td><td>33</td><td>8</td><td>-14.66</td><td></td><td>-2.2</td><td></td><td>-0.07</td><td></td><td>0.53</td><td></td><td>-1.86</td><td></td><td>0.27</td><td></td><td>0.19</td></tr>\n",
       "<tr><td>KKH98</td><td>23</td><td>45</td><td>34.0</td><td>+</td><td>38</td><td>43</td><td>4</td><td>10</td><td>-10.78</td><td></td><td>-3.61</td><td></td><td>-0.06</td><td></td><td>0.19</td><td></td><td>-3.32</td><td></td><td>0.23</td><td></td><td>-0.1</td></tr>\n",
       "<tr><td>ESO348-009</td><td>23</td><td>49</td><td>23.4</td><td>-</td><td>37</td><td>46</td><td>25</td><td>10</td><td>-15.55</td><td></td><td>-2.06</td><td></td><td>-0.4</td><td></td><td>0.83</td><td></td><td>-1.6</td><td></td><td>0.06</td><td></td><td>0.37</td></tr>\n",
       "<tr><td>Peg dSph</td><td>23</td><td>51</td><td>46.4</td><td>+</td><td>24</td><td>35</td><td>10</td><td>-3</td><td>-10.67</td><td></td><td>-6.37</td><td></td><td>-3.45</td><td></td><td>0.71</td><td>&lt;</td><td>-6.38</td><td>&lt;</td><td>-3.46</td><td>&gt;</td><td>0.72</td></tr>\n",
       "<tr><td>ESO149-003</td><td>23</td><td>52</td><td>2.8</td><td>-</td><td>52</td><td>34</td><td>39</td><td>10</td><td>-13.86</td><td></td><td>-2.38</td><td></td><td>-0.04</td><td></td><td>0.26</td><td></td><td>-1.94</td><td></td><td>0.4</td><td></td><td>-0.18</td></tr>\n",
       "<tr><td>And XXI</td><td>23</td><td>54</td><td>47.7</td><td>+</td><td>42</td><td>28</td><td>15</td><td>-3</td><td>-9.27</td><td></td><td>0.0</td><td></td><td>0.0</td><td></td><td>0.0</td><td>&lt;</td><td>-6.24</td><td>&lt;</td><td>-2.76</td><td></td><td>0.0</td></tr>\n",
       "<tr><td>NGC7793</td><td>23</td><td>57</td><td>49.4</td><td>-</td><td>32</td><td>35</td><td>24</td><td>6</td><td>-18.5</td><td></td><td>-0.38</td><td></td><td>-0.01</td><td></td><td>-0.72</td><td></td><td>-0.35</td><td></td><td>0.02</td><td></td><td>-0.75</td></tr>\n",
       "<tr><td>And XXIX</td><td>23</td><td>58</td><td>55.6</td><td>+</td><td>30</td><td>45</td><td>20</td><td>-2</td><td>-7.52</td><td></td><td>0.0</td><td></td><td>0.0</td><td></td><td>0.0</td><td>&lt;</td><td>-6.54</td><td>&lt;</td><td>-2.36</td><td></td><td>0.0</td></tr>\n",
       "</table></div>"
      ],
      "text/plain": [
       "<Table length=802>\n",
       "       Name         RAh   RAm    RAs   DE-  ... l_Pu    Pu   l_Fu    Fu  \n",
       "      str18        int16 int16 float64 str1 ... str1 float64 str1 float64\n",
       "------------------ ----- ----- ------- ---- ... ---- ------- ---- -------\n",
       "UGC12894               0     0    22.5    + ...         0.53         0.08\n",
       "WLM                    0     1    58.1    - ...         0.21          0.2\n",
       "And XVIII              0     2    14.5    + ...    <   -2.27          0.0\n",
       "ESO409-015             0     5    31.8    - ...         0.32        -0.06\n",
       "AGC748778              0     6    34.4    + ...         0.22         0.29\n",
       "And XX                 0     7    30.7    + ...        -1.08          0.0\n",
       "UGC00064               0     7    44.0    + ...         0.35         0.34\n",
       "ESO349-031             0     8    13.3    - ...          0.0         0.28\n",
       "NGC0024                0     9    56.4    - ...         0.05        -0.62\n",
       "               ...   ...   ...     ...  ... ...  ...     ...  ...     ...\n",
       "NGC7713               23    36    15.0    - ...          0.0          0.0\n",
       "UGC12713              23    38    14.5    + ...        -0.33         0.12\n",
       "UGCA442               23    43    46.0    - ...         0.27         0.19\n",
       "KKH98                 23    45    34.0    + ...         0.23         -0.1\n",
       "ESO348-009            23    49    23.4    - ...         0.06         0.37\n",
       "Peg dSph              23    51    46.4    + ...    <   -3.46    >    0.72\n",
       "ESO149-003            23    52     2.8    - ...          0.4        -0.18\n",
       "And XXI               23    54    47.7    + ...    <   -2.76          0.0\n",
       "NGC7793               23    57    49.4    - ...         0.02        -0.75\n",
       "And XXIX              23    58    55.6    + ...    <   -2.36          0.0"
      ]
     },
     "execution_count": 8,
     "metadata": {},
     "output_type": "execute_result"
    }
   ],
   "source": [
    "data"
   ]
  }
 ],
 "metadata": {
  "kernelspec": {
   "display_name": "Python 3",
   "language": "python",
   "name": "python3"
  },
  "language_info": {
   "codemirror_mode": {
    "name": "ipython",
    "version": 3
   },
   "file_extension": ".py",
   "mimetype": "text/x-python",
   "name": "python",
   "nbconvert_exporter": "python",
   "pygments_lexer": "ipython3",
   "version": "3.13.3"
  }
 },
 "nbformat": 4,
 "nbformat_minor": 5
}
